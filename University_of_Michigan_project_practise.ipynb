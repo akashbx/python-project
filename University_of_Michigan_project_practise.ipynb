{
  "nbformat": 4,
  "nbformat_minor": 0,
  "metadata": {
    "colab": {
      "provenance": [],
      "authorship_tag": "ABX9TyN8d5MzGA71gSkBHK6LIsMu",
      "include_colab_link": true
    },
    "kernelspec": {
      "name": "python3",
      "display_name": "Python 3"
    },
    "language_info": {
      "name": "python"
    }
  },
  "cells": [
    {
      "cell_type": "markdown",
      "metadata": {
        "id": "view-in-github",
        "colab_type": "text"
      },
      "source": [
        "<a href=\"https://colab.research.google.com/github/akashbx/python-project/blob/main/University_of_Michigan_project_practise.ipynb\" target=\"_parent\"><img src=\"https://colab.research.google.com/assets/colab-badge.svg\" alt=\"Open In Colab\"/></a>"
      ]
    },
    {
      "cell_type": "markdown",
      "source": [
        "\n",
        "\n",
        "# **07/04/2025**\n"
      ],
      "metadata": {
        "id": "K9QVOz8Qj_32"
      }
    },
    {
      "cell_type": "code",
      "source": [
        "#Canoe Portage\n",
        "def main():\n",
        "    rods = float(input(\"Enter distance in rods: \"))\n",
        "    print(f\"{rods} rods is equivalent to:\")\n",
        "    print(f\"{rods * 5.0292:.2f} meters\")\n",
        "    print(f\"{rods * 5.0292 * 3.28084:.2f} feet\")\n",
        "    print(f\"{rods * 5.0292 / 1609.34:.4f} miles\")\n",
        "    print(f\"{rods / 40:.2f} furlongs\")\n",
        "    print(f\"Approximate walking time: {rods * 5.0292 / 1609.34 / 3.1 * 60:.2f} minutes\")\n",
        "main()"
      ],
      "metadata": {
        "colab": {
          "base_uri": "https://localhost:8080/"
        },
        "id": "-jPrbs4tdBR8",
        "outputId": "cfef6044-4b1b-45c6-efa3-6990d228bbf9"
      },
      "execution_count": null,
      "outputs": [
        {
          "output_type": "stream",
          "name": "stdout",
          "text": [
            "Enter distance in rods: 65\n",
            "65.0 rods is equivalent to:\n",
            "326.90 meters\n",
            "1072.50 feet\n",
            "0.2031 miles\n",
            "1.62 furlongs\n",
            "Approximate walking time: 3.93 minutes\n"
          ]
        }
      ]
    },
    {
      "cell_type": "code",
      "source": [
        "#Richter Scale\n",
        "# Function to calculate energy and TNT equivalent\n",
        "def calculate_energy(richter):\n",
        "    energy = 10 ** ((1.5 * richter) + 4.8)\n",
        "    tnt = energy / 4.184e9\n",
        "    return energy, tnt\n",
        "\n",
        "# List of known Richter scale values\n",
        "richter_values = [1.0, 5.0, 9.1, 9.2, 9.5]\n",
        "\n",
        "print(\"Richter Scale    Energy (joules)        Equivalent in tons of TNT\")\n",
        "print(\"---------------------------------------------------------------\")\n",
        "\n",
        "# Process and print for each known value\n",
        "for value in richter_values:\n",
        "    energy, tnt = calculate_energy(value)\n",
        "    print(f\"{value:<15} {energy:>18.2e} {tnt:>25.2e}\")\n",
        "\n",
        "# User input\n",
        "user_input = input(\"\\nEnter a Richter scale value: \")\n",
        "try:\n",
        "    user_value = float(user_input)\n",
        "    energy, tnt = calculate_energy(user_value)\n",
        "    print(\"\\nResults for your input:\")\n",
        "    print(f\"Richter Scale: {user_value}\")\n",
        "    print(f\"Energy released: {energy:.2e} joules\")\n",
        "    print(f\"Equivalent in tons of TNT: {tnt:.2e}\")\n",
        "except ValueError:\n",
        "    print(\"Invalid input. Please enter a numerical value.\")\n"
      ],
      "metadata": {
        "id": "qNs-4tF2dKmp",
        "outputId": "0038738b-d642-4db4-80e2-e6acbef38325",
        "colab": {
          "base_uri": "https://localhost:8080/"
        }
      },
      "execution_count": null,
      "outputs": [
        {
          "output_type": "stream",
          "name": "stdout",
          "text": [
            "Richter Scale    Energy (joules)        Equivalent in tons of TNT\n",
            "---------------------------------------------------------------\n",
            "1.0                       2.00e+06                  4.77e-04\n",
            "5.0                       2.00e+12                  4.77e+02\n",
            "9.1                       2.82e+18                  6.74e+08\n",
            "9.2                       3.98e+18                  9.51e+08\n",
            "9.5                       1.12e+19                  2.68e+09\n",
            "\n",
            "Enter a Richter scale value: 7\n",
            "\n",
            "Results for your input:\n",
            "Richter Scale: 7.0\n",
            "Energy released: 2.00e+15 joules\n",
            "Equivalent in tons of TNT: 4.77e+05\n"
          ]
        }
      ]
    },
    {
      "cell_type": "markdown",
      "source": [
        "# **08/04/2025**"
      ],
      "metadata": {
        "id": "mlT2hOMpKx90"
      }
    },
    {
      "cell_type": "code",
      "source": [
        "# Checks if a guessed number SLAYER satisfies the puzzle condition.\n",
        "\n",
        "def main():\n",
        "    print(\"Guess a six-digit number SLAYER so that the following equation is true,\")\n",
        "    print(\"where each letter stands for the digit in the position shown:\\n\")\n",
        "    print(\"SLAYER + SLAYER + SLAYER = LAYERS\\n\")\n",
        "\n",
        "    # Prompt user input\n",
        "    slayer = int(input(\"Enter your guess for SLAYER: \"))\n",
        "\n",
        "    # Check if it's a 6-digit number\n",
        "    if slayer < 100000 or slayer > 999999:\n",
        "        print(\"Your guess is incorrect:\")\n",
        "        print(\"SLAYER must be a 6-digit number.\")\n",
        "    else:\n",
        "        # Compute the sum\n",
        "        sum_value = slayer * 3\n",
        "\n",
        "\n",
        "        S = (slayer // 100000) % 10\n",
        "        L = (slayer // 10000) % 10\n",
        "        A = (slayer // 1000) % 10\n",
        "        Y = (slayer // 100) % 10\n",
        "        E = (slayer // 10) % 10\n",
        "        R = slayer % 10\n",
        "\n",
        "        layers = 100000*L + 10000*A + 1000*Y + 100*E + 10*R + S\n",
        "\n",
        "        # Check condition\n",
        "        if sum_value == layers:\n",
        "            print(\"Your guess is correct:\\n\")\n",
        "            print(f\"SLAYER + SLAYER + SLAYER = {sum_value}\")\n",
        "            print(f\"LAYERS = {layers}\")\n",
        "        else:\n",
        "            print(\"Your guess is incorrect:\")\n",
        "            print(f\"SLAYER + SLAYER + SLAYER = {sum_value}\")\n",
        "            print(f\"LAYERS = {layers}\")\n",
        "\n",
        "    print(\"Thanks for playing.\")\n",
        "\n",
        "# Run the program\n",
        "main()"
      ],
      "metadata": {
        "colab": {
          "base_uri": "https://localhost:8080/"
        },
        "id": "meU4deePBj5A",
        "outputId": "0bf2d6f5-486b-4576-a0d5-35e8e1c9e2e0"
      },
      "execution_count": null,
      "outputs": [
        {
          "output_type": "stream",
          "name": "stdout",
          "text": [
            "Guess a six-digit number SLAYER so that the following equation is true,\n",
            "where each letter stands for the digit in the position shown:\n",
            "\n",
            "SLAYER + SLAYER + SLAYER = LAYERS\n",
            "\n",
            "Enter your guess for SLAYER: 142857\n",
            "Your guess is correct:\n",
            "\n",
            "SLAYER + SLAYER + SLAYER = 428571\n",
            "LAYERS = 428571\n",
            "Thanks for playing.\n"
          ]
        }
      ]
    },
    {
      "cell_type": "code",
      "source": [
        "# Drawing colorful concentric circles using Turtle Graphics\n",
        "\n",
        "import turtle\n",
        "import random\n",
        "import time\n",
        "import os\n",
        "\n",
        "def is_valid_positive_integer(s):\n",
        "    return s.isdigit() and int(s) > 0\n",
        "\n",
        "def draw_colored_circles(num_circles, max_radius):\n",
        "    step = max_radius / num_circles  # radius difference between each circle\n",
        "\n",
        "    for i in range(num_circles, 0, -1):\n",
        "        radius = i * step\n",
        "\n",
        "        # Set random color\n",
        "        red = random.random()\n",
        "        green = random.random()\n",
        "        blue = random.random()\n",
        "        turtle.color((red, green, blue))\n",
        "\n",
        "        # Move turtle to start drawing without lines\n",
        "        turtle.penup()\n",
        "        turtle.goto(0, -radius)\n",
        "        turtle.setheading(0)\n",
        "        turtle.pendown()\n",
        "\n",
        "        # Draw the circle\n",
        "        turtle.begin_fill()\n",
        "        turtle.circle(radius)\n",
        "        turtle.end_fill()\n",
        "\n",
        "def main():\n",
        "    print(\"This program draws colorful concentric circles using Turtle Graphics!\")\n",
        "\n",
        "    # Input loop for number of circles\n",
        "    while True:\n",
        "        num_str = input(\"Enter the number of circles (positive integer): \")\n",
        "        if is_valid_positive_integer(num_str):\n",
        "            num_circles = int(num_str)\n",
        "            break\n",
        "        else:\n",
        "            print(\"Invalid input! Please enter a positive integer.\")\n",
        "\n",
        "    # Input loop for maximum radius\n",
        "    while True:\n",
        "        radius_str = input(\"Enter the maximum radius (positive integer): \")\n",
        "        if is_valid_positive_integer(radius_str):\n",
        "            max_radius = int(radius_str)\n",
        "            break\n",
        "        else:\n",
        "            print(\"Invalid input! Please enter a positive integer.\")\n",
        "\n",
        "    # Set up turtle screen and color mode\n",
        "    turtle.colormode(1.0)\n",
        "    turtle.speed(0)  # Fastest\n",
        "    turtle.bgcolor(\"black\")\n",
        "\n",
        "    draw_colored_circles(num_circles, max_radius)\n",
        "\n",
        "    # Keep the window open for a while, then exit\n",
        "    time.sleep(5)\n",
        "    os._exit(0)\n",
        "\n",
        "main()\n"
      ],
      "metadata": {
        "colab": {
          "base_uri": "https://localhost:8080/",
          "height": 373
        },
        "id": "AkwH3tM_EC3u",
        "outputId": "482b01df-2160-4e63-8185-58d67d1c9f11"
      },
      "execution_count": null,
      "outputs": [
        {
          "name": "stdout",
          "output_type": "stream",
          "text": [
            "This program draws colorful concentric circles using Turtle Graphics!\n",
            "Enter the number of circles (positive integer): 9\n",
            "Enter the maximum radius (positive integer): 9\n"
          ]
        },
        {
          "output_type": "error",
          "ename": "TclError",
          "evalue": "no display name and no $DISPLAY environment variable",
          "traceback": [
            "\u001b[0;31m---------------------------------------------------------------------------\u001b[0m",
            "\u001b[0;31mTclError\u001b[0m                                  Traceback (most recent call last)",
            "\u001b[0;32m<ipython-input-17-1019b673cf96>\u001b[0m in \u001b[0;36m<cell line: 0>\u001b[0;34m()\u001b[0m\n\u001b[1;32m     66\u001b[0m     \u001b[0mos\u001b[0m\u001b[0;34m.\u001b[0m\u001b[0m_exit\u001b[0m\u001b[0;34m(\u001b[0m\u001b[0;36m0\u001b[0m\u001b[0;34m)\u001b[0m\u001b[0;34m\u001b[0m\u001b[0;34m\u001b[0m\u001b[0m\n\u001b[1;32m     67\u001b[0m \u001b[0;34m\u001b[0m\u001b[0m\n\u001b[0;32m---> 68\u001b[0;31m \u001b[0mmain\u001b[0m\u001b[0;34m(\u001b[0m\u001b[0;34m)\u001b[0m\u001b[0;34m\u001b[0m\u001b[0;34m\u001b[0m\u001b[0m\n\u001b[0m",
            "\u001b[0;32m<ipython-input-17-1019b673cf96>\u001b[0m in \u001b[0;36mmain\u001b[0;34m()\u001b[0m\n\u001b[1;32m     60\u001b[0m     \u001b[0;31m# turtle.bgcolor(\"black\")\u001b[0m\u001b[0;34m\u001b[0m\u001b[0;34m\u001b[0m\u001b[0m\n\u001b[1;32m     61\u001b[0m \u001b[0;34m\u001b[0m\u001b[0m\n\u001b[0;32m---> 62\u001b[0;31m     \u001b[0mdraw_colored_circles\u001b[0m\u001b[0;34m(\u001b[0m\u001b[0mnum_circles\u001b[0m\u001b[0;34m,\u001b[0m \u001b[0mmax_radius\u001b[0m\u001b[0;34m)\u001b[0m\u001b[0;34m\u001b[0m\u001b[0;34m\u001b[0m\u001b[0m\n\u001b[0m\u001b[1;32m     63\u001b[0m \u001b[0;34m\u001b[0m\u001b[0m\n\u001b[1;32m     64\u001b[0m     \u001b[0;31m# Keep the window open for a while, then exit\u001b[0m\u001b[0;34m\u001b[0m\u001b[0;34m\u001b[0m\u001b[0m\n",
            "\u001b[0;32m<ipython-input-17-1019b673cf96>\u001b[0m in \u001b[0;36mdraw_colored_circles\u001b[0;34m(num_circles, max_radius)\u001b[0m\n\u001b[1;32m     21\u001b[0m         \u001b[0mgreen\u001b[0m \u001b[0;34m=\u001b[0m \u001b[0mrandom\u001b[0m\u001b[0;34m.\u001b[0m\u001b[0mrandom\u001b[0m\u001b[0;34m(\u001b[0m\u001b[0;34m)\u001b[0m\u001b[0;34m\u001b[0m\u001b[0;34m\u001b[0m\u001b[0m\n\u001b[1;32m     22\u001b[0m         \u001b[0mblue\u001b[0m \u001b[0;34m=\u001b[0m \u001b[0mrandom\u001b[0m\u001b[0;34m.\u001b[0m\u001b[0mrandom\u001b[0m\u001b[0;34m(\u001b[0m\u001b[0;34m)\u001b[0m\u001b[0;34m\u001b[0m\u001b[0;34m\u001b[0m\u001b[0m\n\u001b[0;32m---> 23\u001b[0;31m         \u001b[0mturtle\u001b[0m\u001b[0;34m.\u001b[0m\u001b[0mcolor\u001b[0m\u001b[0;34m(\u001b[0m\u001b[0;34m(\u001b[0m\u001b[0mred\u001b[0m\u001b[0;34m,\u001b[0m \u001b[0mgreen\u001b[0m\u001b[0;34m,\u001b[0m \u001b[0mblue\u001b[0m\u001b[0;34m)\u001b[0m\u001b[0;34m)\u001b[0m\u001b[0;34m\u001b[0m\u001b[0;34m\u001b[0m\u001b[0m\n\u001b[0m\u001b[1;32m     24\u001b[0m \u001b[0;34m\u001b[0m\u001b[0m\n\u001b[1;32m     25\u001b[0m         \u001b[0;31m# Move turtle to start drawing without lines\u001b[0m\u001b[0;34m\u001b[0m\u001b[0;34m\u001b[0m\u001b[0m\n",
            "\u001b[0;32m/usr/lib/python3.11/turtle.py\u001b[0m in \u001b[0;36mcolor\u001b[0;34m(*args)\u001b[0m\n",
            "\u001b[0;32m/usr/lib/python3.11/turtle.py\u001b[0m in \u001b[0;36m__init__\u001b[0;34m(self, shape, undobuffersize, visible)\u001b[0m\n\u001b[1;32m   3828\u001b[0m                  visible=_CFG[\"visible\"]):\n\u001b[1;32m   3829\u001b[0m         \u001b[0;32mif\u001b[0m \u001b[0mTurtle\u001b[0m\u001b[0;34m.\u001b[0m\u001b[0m_screen\u001b[0m \u001b[0;32mis\u001b[0m \u001b[0;32mNone\u001b[0m\u001b[0;34m:\u001b[0m\u001b[0;34m\u001b[0m\u001b[0;34m\u001b[0m\u001b[0m\n\u001b[0;32m-> 3830\u001b[0;31m             \u001b[0mTurtle\u001b[0m\u001b[0;34m.\u001b[0m\u001b[0m_screen\u001b[0m \u001b[0;34m=\u001b[0m \u001b[0mScreen\u001b[0m\u001b[0;34m(\u001b[0m\u001b[0;34m)\u001b[0m\u001b[0;34m\u001b[0m\u001b[0;34m\u001b[0m\u001b[0m\n\u001b[0m\u001b[1;32m   3831\u001b[0m         RawTurtle.__init__(self, Turtle._screen,\n\u001b[1;32m   3832\u001b[0m                            \u001b[0mshape\u001b[0m\u001b[0;34m=\u001b[0m\u001b[0mshape\u001b[0m\u001b[0;34m,\u001b[0m\u001b[0;34m\u001b[0m\u001b[0;34m\u001b[0m\u001b[0m\n",
            "\u001b[0;32m/usr/lib/python3.11/turtle.py\u001b[0m in \u001b[0;36mScreen\u001b[0;34m()\u001b[0m\n\u001b[1;32m   3678\u001b[0m     else return the existing one.\"\"\"\n\u001b[1;32m   3679\u001b[0m     \u001b[0;32mif\u001b[0m \u001b[0mTurtle\u001b[0m\u001b[0;34m.\u001b[0m\u001b[0m_screen\u001b[0m \u001b[0;32mis\u001b[0m \u001b[0;32mNone\u001b[0m\u001b[0;34m:\u001b[0m\u001b[0;34m\u001b[0m\u001b[0;34m\u001b[0m\u001b[0m\n\u001b[0;32m-> 3680\u001b[0;31m         \u001b[0mTurtle\u001b[0m\u001b[0;34m.\u001b[0m\u001b[0m_screen\u001b[0m \u001b[0;34m=\u001b[0m \u001b[0m_Screen\u001b[0m\u001b[0;34m(\u001b[0m\u001b[0;34m)\u001b[0m\u001b[0;34m\u001b[0m\u001b[0;34m\u001b[0m\u001b[0m\n\u001b[0m\u001b[1;32m   3681\u001b[0m     \u001b[0;32mreturn\u001b[0m \u001b[0mTurtle\u001b[0m\u001b[0;34m.\u001b[0m\u001b[0m_screen\u001b[0m\u001b[0;34m\u001b[0m\u001b[0;34m\u001b[0m\u001b[0m\n\u001b[1;32m   3682\u001b[0m \u001b[0;34m\u001b[0m\u001b[0m\n",
            "\u001b[0;32m/usr/lib/python3.11/turtle.py\u001b[0m in \u001b[0;36m__init__\u001b[0;34m(self)\u001b[0m\n\u001b[1;32m   3694\u001b[0m         \u001b[0;31m# preserved (perhaps by passing it as an optional parameter)\u001b[0m\u001b[0;34m\u001b[0m\u001b[0;34m\u001b[0m\u001b[0m\n\u001b[1;32m   3695\u001b[0m         \u001b[0;32mif\u001b[0m \u001b[0m_Screen\u001b[0m\u001b[0;34m.\u001b[0m\u001b[0m_root\u001b[0m \u001b[0;32mis\u001b[0m \u001b[0;32mNone\u001b[0m\u001b[0;34m:\u001b[0m\u001b[0;34m\u001b[0m\u001b[0;34m\u001b[0m\u001b[0m\n\u001b[0;32m-> 3696\u001b[0;31m             \u001b[0m_Screen\u001b[0m\u001b[0;34m.\u001b[0m\u001b[0m_root\u001b[0m \u001b[0;34m=\u001b[0m \u001b[0mself\u001b[0m\u001b[0;34m.\u001b[0m\u001b[0m_root\u001b[0m \u001b[0;34m=\u001b[0m \u001b[0m_Root\u001b[0m\u001b[0;34m(\u001b[0m\u001b[0;34m)\u001b[0m\u001b[0;34m\u001b[0m\u001b[0;34m\u001b[0m\u001b[0m\n\u001b[0m\u001b[1;32m   3697\u001b[0m             \u001b[0mself\u001b[0m\u001b[0;34m.\u001b[0m\u001b[0m_root\u001b[0m\u001b[0;34m.\u001b[0m\u001b[0mtitle\u001b[0m\u001b[0;34m(\u001b[0m\u001b[0m_Screen\u001b[0m\u001b[0;34m.\u001b[0m\u001b[0m_title\u001b[0m\u001b[0;34m)\u001b[0m\u001b[0;34m\u001b[0m\u001b[0;34m\u001b[0m\u001b[0m\n\u001b[1;32m   3698\u001b[0m             \u001b[0mself\u001b[0m\u001b[0;34m.\u001b[0m\u001b[0m_root\u001b[0m\u001b[0;34m.\u001b[0m\u001b[0mondestroy\u001b[0m\u001b[0;34m(\u001b[0m\u001b[0mself\u001b[0m\u001b[0;34m.\u001b[0m\u001b[0m_destroy\u001b[0m\u001b[0;34m)\u001b[0m\u001b[0;34m\u001b[0m\u001b[0;34m\u001b[0m\u001b[0m\n",
            "\u001b[0;32m/usr/lib/python3.11/turtle.py\u001b[0m in \u001b[0;36m__init__\u001b[0;34m(self)\u001b[0m\n\u001b[1;32m    434\u001b[0m     \u001b[0;34m\"\"\"Root class for Screen based on Tkinter.\"\"\"\u001b[0m\u001b[0;34m\u001b[0m\u001b[0;34m\u001b[0m\u001b[0m\n\u001b[1;32m    435\u001b[0m     \u001b[0;32mdef\u001b[0m \u001b[0m__init__\u001b[0m\u001b[0;34m(\u001b[0m\u001b[0mself\u001b[0m\u001b[0;34m)\u001b[0m\u001b[0;34m:\u001b[0m\u001b[0;34m\u001b[0m\u001b[0;34m\u001b[0m\u001b[0m\n\u001b[0;32m--> 436\u001b[0;31m         \u001b[0mTK\u001b[0m\u001b[0;34m.\u001b[0m\u001b[0mTk\u001b[0m\u001b[0;34m.\u001b[0m\u001b[0m__init__\u001b[0m\u001b[0;34m(\u001b[0m\u001b[0mself\u001b[0m\u001b[0;34m)\u001b[0m\u001b[0;34m\u001b[0m\u001b[0;34m\u001b[0m\u001b[0m\n\u001b[0m\u001b[1;32m    437\u001b[0m \u001b[0;34m\u001b[0m\u001b[0m\n\u001b[1;32m    438\u001b[0m     \u001b[0;32mdef\u001b[0m \u001b[0msetupcanvas\u001b[0m\u001b[0;34m(\u001b[0m\u001b[0mself\u001b[0m\u001b[0;34m,\u001b[0m \u001b[0mwidth\u001b[0m\u001b[0;34m,\u001b[0m \u001b[0mheight\u001b[0m\u001b[0;34m,\u001b[0m \u001b[0mcwidth\u001b[0m\u001b[0;34m,\u001b[0m \u001b[0mcheight\u001b[0m\u001b[0;34m)\u001b[0m\u001b[0;34m:\u001b[0m\u001b[0;34m\u001b[0m\u001b[0;34m\u001b[0m\u001b[0m\n",
            "\u001b[0;32m/usr/lib/python3.11/tkinter/__init__.py\u001b[0m in \u001b[0;36m__init__\u001b[0;34m(self, screenName, baseName, className, useTk, sync, use)\u001b[0m\n\u001b[1;32m   2324\u001b[0m                 \u001b[0mbaseName\u001b[0m \u001b[0;34m=\u001b[0m \u001b[0mbaseName\u001b[0m \u001b[0;34m+\u001b[0m \u001b[0mext\u001b[0m\u001b[0;34m\u001b[0m\u001b[0;34m\u001b[0m\u001b[0m\n\u001b[1;32m   2325\u001b[0m         \u001b[0minteractive\u001b[0m \u001b[0;34m=\u001b[0m \u001b[0;32mFalse\u001b[0m\u001b[0;34m\u001b[0m\u001b[0;34m\u001b[0m\u001b[0m\n\u001b[0;32m-> 2326\u001b[0;31m         \u001b[0mself\u001b[0m\u001b[0;34m.\u001b[0m\u001b[0mtk\u001b[0m \u001b[0;34m=\u001b[0m \u001b[0m_tkinter\u001b[0m\u001b[0;34m.\u001b[0m\u001b[0mcreate\u001b[0m\u001b[0;34m(\u001b[0m\u001b[0mscreenName\u001b[0m\u001b[0;34m,\u001b[0m \u001b[0mbaseName\u001b[0m\u001b[0;34m,\u001b[0m \u001b[0mclassName\u001b[0m\u001b[0;34m,\u001b[0m \u001b[0minteractive\u001b[0m\u001b[0;34m,\u001b[0m \u001b[0mwantobjects\u001b[0m\u001b[0;34m,\u001b[0m \u001b[0museTk\u001b[0m\u001b[0;34m,\u001b[0m \u001b[0msync\u001b[0m\u001b[0;34m,\u001b[0m \u001b[0muse\u001b[0m\u001b[0;34m)\u001b[0m\u001b[0;34m\u001b[0m\u001b[0;34m\u001b[0m\u001b[0m\n\u001b[0m\u001b[1;32m   2327\u001b[0m         \u001b[0;32mif\u001b[0m \u001b[0museTk\u001b[0m\u001b[0;34m:\u001b[0m\u001b[0;34m\u001b[0m\u001b[0;34m\u001b[0m\u001b[0m\n\u001b[1;32m   2328\u001b[0m             \u001b[0mself\u001b[0m\u001b[0;34m.\u001b[0m\u001b[0m_loadtk\u001b[0m\u001b[0;34m(\u001b[0m\u001b[0;34m)\u001b[0m\u001b[0;34m\u001b[0m\u001b[0;34m\u001b[0m\u001b[0m\n",
            "\u001b[0;31mTclError\u001b[0m: no display name and no $DISPLAY environment variable"
          ]
        }
      ]
    },
    {
      "cell_type": "markdown",
      "source": [
        "# **09/04/2025**"
      ],
      "metadata": {
        "id": "LOZlqMp4LCZT"
      }
    },
    {
      "cell_type": "code",
      "source": [
        "# Vending Machine Change Maker\n",
        "\n",
        "def print_stock(n, d, q, o, f):\n",
        "    print(\"Stock contains:\")\n",
        "    print(f\"  {n} nickels\")\n",
        "    print(f\"  {d} dimes\")\n",
        "    print(f\"  {q} quarters\")\n",
        "    print(f\"  {o} ones\")\n",
        "    print(f\"  {f} fives\\n\")\n",
        "\n",
        "def print_menu():\n",
        "    print(\"Menu for deposits:\")\n",
        "    print(\"  'n' - deposit a nickel\")\n",
        "    print(\"  'd' - deposit a dime\")\n",
        "    print(\"  'q' - deposit a quarter\")\n",
        "    print(\"  'o' - deposit a one dollar bill\")\n",
        "    print(\"  'f' - deposit a five dollar bill\")\n",
        "    print(\"  'c' - cancel the purchase\\n\")\n",
        "\n",
        "def get_change(change_due, stock):\n",
        "    coins_dispensed = {'nickels': 0, 'dimes': 0, 'quarters': 0}\n",
        "    remaining = change_due\n",
        "\n",
        "    # quarters\n",
        "    max_q = min(remaining // 25, stock['quarters'])\n",
        "    coins_dispensed['quarters'] = max_q\n",
        "    remaining -= max_q * 25\n",
        "\n",
        "    # dimes\n",
        "    max_d = min(remaining // 10, stock['dimes'])\n",
        "    coins_dispensed['dimes'] = max_d\n",
        "    remaining -= max_d * 10\n",
        "\n",
        "    # nickels\n",
        "    max_n = min(remaining // 5, stock['nickels'])\n",
        "    coins_dispensed['nickels'] = max_n\n",
        "    remaining -= max_n * 5\n",
        "\n",
        "    return coins_dispensed, remaining\n",
        "\n",
        "def main():\n",
        "    print(\"Welcome to the vending machine change maker program\")\n",
        "    print(\"Change maker initialized.\")\n",
        "\n",
        "    stock = {\n",
        "        'nickels': 25,\n",
        "        'dimes': 25,\n",
        "        'quarters': 25,\n",
        "        'ones': 0,\n",
        "        'fives': 0\n",
        "    }\n",
        "\n",
        "    print_stock(stock['nickels'], stock['dimes'], stock['quarters'], stock['ones'], stock['fives'])\n",
        "\n",
        "    while True:\n",
        "        user_input = input(\"Enter the purchase price (xx.xx) or `q` to quit: \")\n",
        "        if user_input.lower() == 'q':\n",
        "            total_cents = (\n",
        "                stock['nickels'] * 5 +\n",
        "                stock['dimes'] * 10 +\n",
        "                stock['quarters'] * 25 +\n",
        "                stock['ones'] * 100 +\n",
        "                stock['fives'] * 500\n",
        "            )\n",
        "            print(f\"\\nTotal: {total_cents // 100} dollars and {total_cents % 100} cents\")\n",
        "            break\n",
        "\n",
        "        try:\n",
        "            price = round(float(user_input) * 100)\n",
        "            if price < 0 or price % 5 != 0:\n",
        "                print(\"Illegal price: Must be a non-negative multiple of 5 cents.\\n\")\n",
        "                continue\n",
        "        except:\n",
        "            print(\"Invalid input.\\n\")\n",
        "            continue\n",
        "\n",
        "        amount_due = price\n",
        "        print()\n",
        "        print_menu()\n",
        "\n",
        "        while amount_due > 0:\n",
        "            dollars = amount_due // 100\n",
        "            cents = amount_due % 100\n",
        "            print(f\"Payment due: {dollars} dollars and {cents} cents\")\n",
        "            deposit = input(\"Indicate your deposit: \").lower()\n",
        "\n",
        "            if deposit == 'n':\n",
        "                stock['nickels'] += 1\n",
        "                amount_due -= 5\n",
        "            elif deposit == 'd':\n",
        "                stock['dimes'] += 1\n",
        "                amount_due -= 10\n",
        "            elif deposit == 'q':\n",
        "                stock['quarters'] += 1\n",
        "                amount_due -= 25\n",
        "            elif deposit == 'o':\n",
        "                stock['ones'] += 1\n",
        "                amount_due -= 100\n",
        "            elif deposit == 'f':\n",
        "                stock['fives'] += 1\n",
        "                amount_due -= 500\n",
        "            elif deposit == 'c':\n",
        "                print(\"\\nPlease take the change below.\")\n",
        "                refund = price - amount_due\n",
        "                change_coins, leftover = get_change(refund, stock)\n",
        "\n",
        "                for coin in ['quarters', 'dimes', 'nickels']:\n",
        "                    if change_coins[coin] > 0:\n",
        "                        print(f\"  {change_coins[coin]} {coin}\")\n",
        "\n",
        "                # Update stock\n",
        "                stock['quarters'] -= change_coins['quarters']\n",
        "                stock['dimes'] -= change_coins['dimes']\n",
        "                stock['nickels'] -= change_coins['nickels']\n",
        "\n",
        "                if leftover > 0:\n",
        "                    print(\"Machine is out of change.\")\n",
        "                    print(\"See store manager for remaining refund.\")\n",
        "                    print(f\"Amount due is: {leftover // 100} dollars and {leftover % 100} cents\")\n",
        "\n",
        "                print()\n",
        "                print_stock(stock['nickels'], stock['dimes'], stock['quarters'], stock['ones'], stock['fives'])\n",
        "                break\n",
        "            else:\n",
        "                print(\"Illegal selection.\")\n",
        "                continue\n",
        "\n",
        "        if amount_due <= 0:\n",
        "            print(\"\\nPlease take the change below.\")\n",
        "            change = -amount_due\n",
        "            if change == 0:\n",
        "                print(\"  No change due.\")\n",
        "            else:\n",
        "                change_coins, leftover = get_change(change, stock)\n",
        "                for coin in ['quarters', 'dimes', 'nickels']:\n",
        "                    if change_coins[coin] > 0:\n",
        "                        print(f\"  {change_coins[coin]} {coin}\")\n",
        "\n",
        "                # Update stock\n",
        "                stock['quarters'] -= change_coins['quarters']\n",
        "                stock['dimes'] -= change_coins['dimes']\n",
        "                stock['nickels'] -= change_coins['nickels']\n",
        "\n",
        "                if leftover > 0:\n",
        "                    print(\"Machine is out of change.\")\n",
        "                    print(\"See store manager for remaining refund.\")\n",
        "                    print(f\"Amount due is: {leftover // 100} dollars and {leftover % 100} cents\")\n",
        "\n",
        "            print()\n",
        "            print_stock(stock['nickels'], stock['dimes'], stock['quarters'], stock['ones'], stock['fives'])\n",
        "\n",
        "main()"
      ],
      "metadata": {
        "id": "g7ExaYykLVnW",
        "colab": {
          "base_uri": "https://localhost:8080/"
        },
        "outputId": "ca381e5c-d8df-4469-bdd1-0d2a0d55bb8d"
      },
      "execution_count": 1,
      "outputs": [
        {
          "output_type": "stream",
          "name": "stdout",
          "text": [
            "Welcome to the vending machine change maker program\n",
            "Change maker initialized.\n",
            "Stock contains:\n",
            "  25 nickels\n",
            "  25 dimes\n",
            "  25 quarters\n",
            "  0 ones\n",
            "  0 fives\n",
            "\n",
            "Enter the purchase price (xx.xx) or `q` to quit: 56\n",
            "\n",
            "Menu for deposits:\n",
            "  'n' - deposit a nickel\n",
            "  'd' - deposit a dime\n",
            "  'q' - deposit a quarter\n",
            "  'o' - deposit a one dollar bill\n",
            "  'f' - deposit a five dollar bill\n",
            "  'c' - cancel the purchase\n",
            "\n",
            "Payment due: 56 dollars and 0 cents\n",
            "Indicate your deposit: d\n",
            "Payment due: 55 dollars and 90 cents\n",
            "Indicate your deposit: q\n",
            "Payment due: 55 dollars and 65 cents\n",
            "Indicate your deposit: f\n",
            "Payment due: 50 dollars and 65 cents\n",
            "Indicate your deposit: f\n",
            "Payment due: 45 dollars and 65 cents\n",
            "Indicate your deposit: f\n",
            "Payment due: 40 dollars and 65 cents\n",
            "Indicate your deposit: c\n",
            "\n",
            "Please take the change below.\n",
            "  26 quarters\n",
            "  26 dimes\n",
            "  25 nickels\n",
            "Machine is out of change.\n",
            "See store manager for remaining refund.\n",
            "Amount due is: 5 dollars and 0 cents\n",
            "\n",
            "Stock contains:\n",
            "  0 nickels\n",
            "  0 dimes\n",
            "  0 quarters\n",
            "  0 ones\n",
            "  3 fives\n",
            "\n",
            "Enter the purchase price (xx.xx) or `q` to quit: q\n",
            "\n",
            "Total: 15 dollars and 0 cents\n"
          ]
        }
      ]
    },
    {
      "cell_type": "code",
      "source": [
        "# Number Puzzle - Split and check increasing order\n",
        "\n",
        "def is_valid_whole_number(s):\n",
        "    return s.isdigit()\n",
        "\n",
        "def is_valid_piece_length(length_str, number_str):\n",
        "    return length_str.isdigit() and int(length_str) > 0 and len(number_str) % int(length_str) == 0\n",
        "\n",
        "def main():\n",
        "\n",
        "    while True:\n",
        "        number_str = input(\"Enter a whole number: \")\n",
        "        if is_valid_whole_number(number_str):\n",
        "            break\n",
        "        print(\"Invalid input. Please enter a valid whole number.\")\n",
        "\n",
        "    while True:\n",
        "        piece_len_str = input(\"Enter the number of digits per piece: \")\n",
        "        if is_valid_piece_length(piece_len_str, number_str):\n",
        "            break\n",
        "        print(\"Invalid input. The piece length must be a proper divisor of the number's digit count.\")\n",
        "\n",
        "    piece_len = int(piece_len_str)\n",
        "    total_len = len(number_str)\n",
        "    num_pieces = total_len // piece_len\n",
        "\n",
        "    index = 0\n",
        "    prev_piece = \"\"\n",
        "    is_increasing = True\n",
        "    print(\"The pieces are: \", end=\"\")\n",
        "\n",
        "    while index < total_len:\n",
        "        piece = number_str[index:index+piece_len]\n",
        "        print(piece, end=\", \" if index + piece_len < total_len else \"\\n\")\n",
        "\n",
        "        if prev_piece != \"\":\n",
        "            if int(piece) <= int(prev_piece):\n",
        "                is_increasing = False\n",
        "        prev_piece = piece\n",
        "        index += piece_len\n",
        "\n",
        "    if is_increasing:\n",
        "        print(\"The pieces are in increasing order.\")\n",
        "    else:\n",
        "        print(\"The pieces are NOT in increasing order.\")\n",
        "\n",
        "main()"
      ],
      "metadata": {
        "colab": {
          "base_uri": "https://localhost:8080/"
        },
        "id": "psu-8fFISmdV",
        "outputId": "432ded52-070d-487a-a8cf-db4c24b31b8e"
      },
      "execution_count": 3,
      "outputs": [
        {
          "output_type": "stream",
          "name": "stdout",
          "text": [
            "Enter a whole number: 25\n",
            "Enter the number of digits per piece: 6\n",
            "Invalid input. The piece length must be a proper divisor of the number's digit count.\n",
            "Enter the number of digits per piece: 5\n",
            "Invalid input. The piece length must be a proper divisor of the number's digit count.\n",
            "Enter the number of digits per piece: 2\n",
            "The pieces are: 25\n",
            "The pieces are in increasing order.\n"
          ]
        }
      ]
    },
    {
      "cell_type": "markdown",
      "source": [
        "# **10/04/2025**"
      ],
      "metadata": {
        "id": "BlzHglzITbuD"
      }
    },
    {
      "cell_type": "code",
      "source": [
        "# proj06a.py\n",
        "# Part A: Copy selected measles vaccination data by year\n",
        "def main():\n",
        "    try:\n",
        "        infile = open(\"measles.txt\", \"r\")\n",
        "    except FileNotFoundError:\n",
        "        print(\"Error: 'measles.txt' not found.\")\n",
        "        return\n",
        "\n",
        "    outfile_name = input(\"Enter the name of the output file: \")\n",
        "    try:\n",
        "        outfile = open(outfile_name, \"w\")\n",
        "    except:\n",
        "        print(\"Error: cannot create output file.\")\n",
        "        infile.close()\n",
        "        return\n",
        "\n",
        "    year_filter = input(\"Enter a year filter (e.g., '1987', '19', or 'all'): \").strip()\n",
        "\n",
        "    for line in infile:\n",
        "        line_year = line[-5:].strip()\n",
        "        if year_filter.lower() in [\"\", \"all\", \"ALL\"] or line_year.startswith(year_filter):\n",
        "            outfile.write(line)\n",
        "\n",
        "    infile.close()\n",
        "    outfile.close()\n",
        "    print(\"Filtered data written to\", outfile_name)\n",
        "\n",
        "main()"
      ],
      "metadata": {
        "colab": {
          "base_uri": "https://localhost:8080/"
        },
        "id": "CKB5S2JGTnv6",
        "outputId": "8bc62046-6b1b-45fd-eea9-f816b4d6d861"
      },
      "execution_count": 7,
      "outputs": [
        {
          "output_type": "stream",
          "name": "stdout",
          "text": [
            "Error: 'measles.txt' not found.\n"
          ]
        }
      ]
    },
    {
      "cell_type": "code",
      "source": [
        "# proj06b.py\n",
        "\n",
        "# Part B: Analyze measles vaccination data by year and income level\n",
        "\n",
        "def open_file():\n",
        "    while True:\n",
        "        filename = input(\"Enter the name of the input file: \")\n",
        "        try:\n",
        "            return open(filename, \"r\")\n",
        "        except FileNotFoundError:\n",
        "            print(\"File not found. Try again.\")\n",
        "\n",
        "def process_file(file):\n",
        "    year_input = input(\"Enter the year: \").strip()\n",
        "    income_level_input = input(\"Enter income level (1=LI, 2=LMI, 3=UMI, 4=HI): \").strip()\n",
        "\n",
        "    income_map = {\n",
        "        \"1\": \"WB_LI\",\n",
        "        \"2\": \"WB_LMI\",\n",
        "        \"3\": \"WB_UMI\",\n",
        "        \"4\": \"WB_HI\"\n",
        "    }\n",
        "\n",
        "    if income_level_input not in income_map:\n",
        "        print(\"Invalid income level input.\")\n",
        "        return\n",
        "\n",
        "    income_code = income_map[income_level_input]\n",
        "    count = 0\n",
        "    total_percent = 0\n",
        "    min_country = \"\"\n",
        "    max_country = \"\"\n",
        "    min_percent = 101\n",
        "    max_percent = -1\n",
        "\n",
        "    for line in file:\n",
        "        country = line[:50].strip()\n",
        "        income = line[50:56].strip()\n",
        "        percent_str = line[56:59].strip()\n",
        "        year = line[-5:].strip()\n",
        "\n",
        "        if year == year_input and income == income_code:\n",
        "            try:\n",
        "                percent = int(percent_str)\n",
        "            except:\n",
        "                continue\n",
        "\n",
        "            count += 1\n",
        "            total_percent += percent\n",
        "\n",
        "            if percent < min_percent:\n",
        "                min_percent = percent\n",
        "                min_country = country\n",
        "\n",
        "            if percent > max_percent:\n",
        "                max_percent = percent\n",
        "                max_country = country\n",
        "\n",
        "    if count == 0:\n",
        "        print(\"No records match the criteria.\")\n",
        "    else:\n",
        "        avg = total_percent / count\n",
        "        print(f\"Number of matching records: {count}\")\n",
        "        print(f\"Average percent vaccinated: {avg:.1f}\")\n",
        "        print(f\"Lowest: {min_country} ({min_percent}%)\")\n",
        "        print(f\"Highest: {max_country} ({max_percent}%)\")\n",
        "\n",
        "def main():\n",
        "    file = open_file()\n",
        "    process_file(file)\n",
        "    file.close()\n",
        "\n",
        "main()\n"
      ],
      "metadata": {
        "colab": {
          "base_uri": "https://localhost:8080/",
          "height": 391
        },
        "id": "iAY_10HzVaPi",
        "outputId": "700d9ee0-50d4-43a0-d933-a5a849c2f969"
      },
      "execution_count": 4,
      "outputs": [
        {
          "output_type": "stream",
          "name": "stdout",
          "text": [
            "Enter the name of the input file: measles.txt\n",
            "File not found. Try again.\n",
            "Enter the name of the input file: measles.txt\n",
            "File not found. Try again.\n"
          ]
        },
        {
          "output_type": "error",
          "ename": "KeyboardInterrupt",
          "evalue": "Interrupted by user",
          "traceback": [
            "\u001b[0;31m---------------------------------------------------------------------------\u001b[0m",
            "\u001b[0;31mKeyboardInterrupt\u001b[0m                         Traceback (most recent call last)",
            "\u001b[0;32m<ipython-input-4-ca801b9d43d8>\u001b[0m in \u001b[0;36m<cell line: 0>\u001b[0;34m()\u001b[0m\n\u001b[1;32m     70\u001b[0m     \u001b[0mfile\u001b[0m\u001b[0;34m.\u001b[0m\u001b[0mclose\u001b[0m\u001b[0;34m(\u001b[0m\u001b[0;34m)\u001b[0m\u001b[0;34m\u001b[0m\u001b[0;34m\u001b[0m\u001b[0m\n\u001b[1;32m     71\u001b[0m \u001b[0;34m\u001b[0m\u001b[0m\n\u001b[0;32m---> 72\u001b[0;31m \u001b[0mmain\u001b[0m\u001b[0;34m(\u001b[0m\u001b[0;34m)\u001b[0m\u001b[0;34m\u001b[0m\u001b[0;34m\u001b[0m\u001b[0m\n\u001b[0m",
            "\u001b[0;32m<ipython-input-4-ca801b9d43d8>\u001b[0m in \u001b[0;36mmain\u001b[0;34m()\u001b[0m\n\u001b[1;32m     66\u001b[0m \u001b[0;34m\u001b[0m\u001b[0m\n\u001b[1;32m     67\u001b[0m \u001b[0;32mdef\u001b[0m \u001b[0mmain\u001b[0m\u001b[0;34m(\u001b[0m\u001b[0;34m)\u001b[0m\u001b[0;34m:\u001b[0m\u001b[0;34m\u001b[0m\u001b[0;34m\u001b[0m\u001b[0m\n\u001b[0;32m---> 68\u001b[0;31m     \u001b[0mfile\u001b[0m \u001b[0;34m=\u001b[0m \u001b[0mopen_file\u001b[0m\u001b[0;34m(\u001b[0m\u001b[0;34m)\u001b[0m\u001b[0;34m\u001b[0m\u001b[0;34m\u001b[0m\u001b[0m\n\u001b[0m\u001b[1;32m     69\u001b[0m     \u001b[0mprocess_file\u001b[0m\u001b[0;34m(\u001b[0m\u001b[0mfile\u001b[0m\u001b[0;34m)\u001b[0m\u001b[0;34m\u001b[0m\u001b[0;34m\u001b[0m\u001b[0m\n\u001b[1;32m     70\u001b[0m     \u001b[0mfile\u001b[0m\u001b[0;34m.\u001b[0m\u001b[0mclose\u001b[0m\u001b[0;34m(\u001b[0m\u001b[0;34m)\u001b[0m\u001b[0;34m\u001b[0m\u001b[0;34m\u001b[0m\u001b[0m\n",
            "\u001b[0;32m<ipython-input-4-ca801b9d43d8>\u001b[0m in \u001b[0;36mopen_file\u001b[0;34m()\u001b[0m\n\u001b[1;32m      4\u001b[0m \u001b[0;32mdef\u001b[0m \u001b[0mopen_file\u001b[0m\u001b[0;34m(\u001b[0m\u001b[0;34m)\u001b[0m\u001b[0;34m:\u001b[0m\u001b[0;34m\u001b[0m\u001b[0;34m\u001b[0m\u001b[0m\n\u001b[1;32m      5\u001b[0m     \u001b[0;32mwhile\u001b[0m \u001b[0;32mTrue\u001b[0m\u001b[0;34m:\u001b[0m\u001b[0;34m\u001b[0m\u001b[0;34m\u001b[0m\u001b[0m\n\u001b[0;32m----> 6\u001b[0;31m         \u001b[0mfilename\u001b[0m \u001b[0;34m=\u001b[0m \u001b[0minput\u001b[0m\u001b[0;34m(\u001b[0m\u001b[0;34m\"Enter the name of the input file: \"\u001b[0m\u001b[0;34m)\u001b[0m\u001b[0;34m\u001b[0m\u001b[0;34m\u001b[0m\u001b[0m\n\u001b[0m\u001b[1;32m      7\u001b[0m         \u001b[0;32mtry\u001b[0m\u001b[0;34m:\u001b[0m\u001b[0;34m\u001b[0m\u001b[0;34m\u001b[0m\u001b[0m\n\u001b[1;32m      8\u001b[0m             \u001b[0;32mreturn\u001b[0m \u001b[0mopen\u001b[0m\u001b[0;34m(\u001b[0m\u001b[0mfilename\u001b[0m\u001b[0;34m,\u001b[0m \u001b[0;34m\"r\"\u001b[0m\u001b[0;34m)\u001b[0m\u001b[0;34m\u001b[0m\u001b[0;34m\u001b[0m\u001b[0m\n",
            "\u001b[0;32m/usr/local/lib/python3.11/dist-packages/ipykernel/kernelbase.py\u001b[0m in \u001b[0;36mraw_input\u001b[0;34m(self, prompt)\u001b[0m\n\u001b[1;32m   1175\u001b[0m                 \u001b[0;34m\"raw_input was called, but this frontend does not support input requests.\"\u001b[0m\u001b[0;34m\u001b[0m\u001b[0;34m\u001b[0m\u001b[0m\n\u001b[1;32m   1176\u001b[0m             )\n\u001b[0;32m-> 1177\u001b[0;31m         return self._input_request(\n\u001b[0m\u001b[1;32m   1178\u001b[0m             \u001b[0mstr\u001b[0m\u001b[0;34m(\u001b[0m\u001b[0mprompt\u001b[0m\u001b[0;34m)\u001b[0m\u001b[0;34m,\u001b[0m\u001b[0;34m\u001b[0m\u001b[0;34m\u001b[0m\u001b[0m\n\u001b[1;32m   1179\u001b[0m             \u001b[0mself\u001b[0m\u001b[0;34m.\u001b[0m\u001b[0m_parent_ident\u001b[0m\u001b[0;34m[\u001b[0m\u001b[0;34m\"shell\"\u001b[0m\u001b[0;34m]\u001b[0m\u001b[0;34m,\u001b[0m\u001b[0;34m\u001b[0m\u001b[0;34m\u001b[0m\u001b[0m\n",
            "\u001b[0;32m/usr/local/lib/python3.11/dist-packages/ipykernel/kernelbase.py\u001b[0m in \u001b[0;36m_input_request\u001b[0;34m(self, prompt, ident, parent, password)\u001b[0m\n\u001b[1;32m   1217\u001b[0m             \u001b[0;32mexcept\u001b[0m \u001b[0mKeyboardInterrupt\u001b[0m\u001b[0;34m:\u001b[0m\u001b[0;34m\u001b[0m\u001b[0;34m\u001b[0m\u001b[0m\n\u001b[1;32m   1218\u001b[0m                 \u001b[0;31m# re-raise KeyboardInterrupt, to truncate traceback\u001b[0m\u001b[0;34m\u001b[0m\u001b[0;34m\u001b[0m\u001b[0m\n\u001b[0;32m-> 1219\u001b[0;31m                 \u001b[0;32mraise\u001b[0m \u001b[0mKeyboardInterrupt\u001b[0m\u001b[0;34m(\u001b[0m\u001b[0;34m\"Interrupted by user\"\u001b[0m\u001b[0;34m)\u001b[0m \u001b[0;32mfrom\u001b[0m \u001b[0;32mNone\u001b[0m\u001b[0;34m\u001b[0m\u001b[0;34m\u001b[0m\u001b[0m\n\u001b[0m\u001b[1;32m   1220\u001b[0m             \u001b[0;32mexcept\u001b[0m \u001b[0mException\u001b[0m\u001b[0;34m:\u001b[0m\u001b[0;34m\u001b[0m\u001b[0;34m\u001b[0m\u001b[0m\n\u001b[1;32m   1221\u001b[0m                 \u001b[0mself\u001b[0m\u001b[0;34m.\u001b[0m\u001b[0mlog\u001b[0m\u001b[0;34m.\u001b[0m\u001b[0mwarning\u001b[0m\u001b[0;34m(\u001b[0m\u001b[0;34m\"Invalid Message:\"\u001b[0m\u001b[0;34m,\u001b[0m \u001b[0mexc_info\u001b[0m\u001b[0;34m=\u001b[0m\u001b[0;32mTrue\u001b[0m\u001b[0;34m)\u001b[0m\u001b[0;34m\u001b[0m\u001b[0;34m\u001b[0m\u001b[0m\n",
            "\u001b[0;31mKeyboardInterrupt\u001b[0m: Interrupted by user"
          ]
        }
      ]
    },
    {
      "cell_type": "markdown",
      "source": [
        "# **11/04/2025**"
      ],
      "metadata": {
        "id": "_gkwtxQRXczY"
      }
    },
    {
      "cell_type": "code",
      "source": [],
      "metadata": {
        "id": "kyCeUH7uXnzW"
      },
      "execution_count": null,
      "outputs": []
    }
  ]
}